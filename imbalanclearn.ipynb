{
 "cells": [
  {
   "cell_type": "markdown",
   "id": "530ee757",
   "metadata": {},
   "source": [
    "copied from Mr. Kaviani\n",
    "\n",
    "for prqactice"
   ]
  },
  {
   "cell_type": "code",
   "execution_count": null,
   "id": "99c5b04f",
   "metadata": {},
   "outputs": [],
   "source": [
    "import random\n",
    "import imblearn\n",
    "import numpy as np\n",
    "import numpy as np"
   ]
  }
 ],
 "metadata": {
  "kernelspec": {
   "display_name": "Python 3 (ipykernel)",
   "language": "python",
   "name": "python3"
  },
  "language_info": {
   "codemirror_mode": {
    "name": "ipython",
    "version": 3
   },
   "file_extension": ".py",
   "mimetype": "text/x-python",
   "name": "python",
   "nbconvert_exporter": "python",
   "pygments_lexer": "ipython3",
   "version": "3.8.5"
  }
 },
 "nbformat": 4,
 "nbformat_minor": 5
}
